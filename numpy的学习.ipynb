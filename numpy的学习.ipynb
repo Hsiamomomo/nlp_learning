{
 "cells": [
  {
   "cell_type": "markdown",
   "metadata": {
    "ExecuteTime": {
     "end_time": "2020-02-27T13:58:02.934934Z",
     "start_time": "2020-02-27T13:58:02.909925Z"
    }
   },
   "source": [
    "### numpy的基本操作"
   ]
  },
  {
   "cell_type": "code",
   "execution_count": 3,
   "metadata": {
    "ExecuteTime": {
     "end_time": "2020-02-27T14:02:51.220956Z",
     "start_time": "2020-02-27T14:02:51.204954Z"
    },
    "scrolled": true
   },
   "outputs": [
    {
     "name": "stdout",
     "output_type": "stream",
     "text": [
      "[1, 2, 3]\n",
      "[1 2 3 1 2 3 1 2 3 1 2 3 1 2 3 1 2 3 1 2 3 1 2 3 1 2 3 1 2 3]\n"
     ]
    }
   ],
   "source": [
    "import numpy as np\n",
    "\n",
    "data = [1, 2, 3]\n",
    "n = np.array(data*10)\n",
    "print(data)\n",
    "print(n)"
   ]
  },
  {
   "cell_type": "code",
   "execution_count": 4,
   "metadata": {
    "ExecuteTime": {
     "end_time": "2020-02-27T14:03:21.261051Z",
     "start_time": "2020-02-27T14:03:21.246044Z"
    },
    "scrolled": true
   },
   "outputs": [
    {
     "data": {
      "text/plain": [
       "(30,)"
      ]
     },
     "execution_count": 4,
     "metadata": {},
     "output_type": "execute_result"
    }
   ],
   "source": [
    "n.shape"
   ]
  },
  {
   "cell_type": "code",
   "execution_count": 5,
   "metadata": {
    "ExecuteTime": {
     "end_time": "2020-02-27T14:03:35.064224Z",
     "start_time": "2020-02-27T14:03:35.052207Z"
    },
    "scrolled": true
   },
   "outputs": [
    {
     "data": {
      "text/plain": [
       "dtype('int32')"
      ]
     },
     "execution_count": 5,
     "metadata": {},
     "output_type": "execute_result"
    }
   ],
   "source": [
    "n.dtype"
   ]
  },
  {
   "cell_type": "markdown",
   "metadata": {},
   "source": [
    "### numpy的嵌套序列（是由一组等长的列表组成的列表）"
   ]
  },
  {
   "cell_type": "code",
   "execution_count": 9,
   "metadata": {
    "ExecuteTime": {
     "end_time": "2020-02-27T14:22:28.621708Z",
     "start_time": "2020-02-27T14:22:28.559701Z"
    }
   },
   "outputs": [
    {
     "name": "stdout",
     "output_type": "stream",
     "text": [
      "[[1 2 3 4]\n",
      " [5 6 7 8]]\n",
      "2\n",
      "[['1' '2' '3' '4']\n",
      " ['5' '6' '7' '8']]\n",
      "<U1\n",
      "[[1.1 2.  3.  4. ]\n",
      " [5.  6.  7.  8. ]]\n",
      "float64\n"
     ]
    }
   ],
   "source": [
    "arr = [[1, 2, 3, 4], [5, 6, 7, 8]]\n",
    "arr2 = np.array(arr)\n",
    "print(arr2)\n",
    "# ndim代表了维度\n",
    "print(arr2.ndim)\n",
    "\n",
    "\n",
    "# numpy对数据类型的一个判断(这不是一个好的示范)\n",
    "arr = [['1', '2', 3, 4], [5, 6, 7, 8]]\n",
    "arr2 = np.array(arr)\n",
    "print(arr2)\n",
    "# 转成str是比较合适的想法，因为有可能转成其他类型比如整形有可能会发生转换失败\n",
    "print(arr2.dtype) #U1指的就是Unicode类型 (可以理解为numpy里面的字符串)\n",
    "\n",
    "arr = [[1.1, 2, 3, 4], [5, 6, 7, 8]]\n",
    "arr2 = np.array(arr)\n",
    "print(arr2)\n",
    "print(arr2.dtype) "
   ]
  },
  {
   "cell_type": "code",
   "execution_count": 13,
   "metadata": {
    "ExecuteTime": {
     "end_time": "2020-02-27T14:24:19.270889Z",
     "start_time": "2020-02-27T14:24:19.253885Z"
    }
   },
   "outputs": [
    {
     "name": "stdout",
     "output_type": "stream",
     "text": [
      "[0. 0. 0. 0. 0. 0. 0. 0. 0. 0.]\n",
      "[[1. 1. 1.]\n",
      " [1. 1. 1.]]\n",
      "[[[1.22433188e-311 1.22433263e-311 1.22433279e-311 1.22433279e-311]\n",
      "  [1.22433188e-311 1.22433190e-311 1.22433185e-311 1.22433243e-311]\n",
      "  [1.22433188e-311 1.22433185e-311 1.22433275e-311 1.22433252e-311]]\n",
      "\n",
      " [[1.22433266e-311 1.22433243e-311 1.22433195e-311 1.22433243e-311]\n",
      "  [1.22433187e-311 1.22433240e-311 1.22433267e-311 1.22433263e-311]\n",
      "  [1.22433195e-311 1.02360392e-306 9.79107193e-307 1.37961505e-306]]]\n"
     ]
    }
   ],
   "source": [
    "# numpy指定长度数组的构建\n",
    "print(np.zeros(10))\n",
    "print(np.ones((2,3)))\n",
    "print(np.empty((2, 3, 4)))"
   ]
  },
  {
   "cell_type": "code",
   "execution_count": 16,
   "metadata": {
    "ExecuteTime": {
     "end_time": "2020-02-28T01:57:11.438203Z",
     "start_time": "2020-02-28T01:57:11.374186Z"
    }
   },
   "outputs": [
    {
     "name": "stdout",
     "output_type": "stream",
     "text": [
      "[0 1 2 3 4 5 6 7 8 9]\n"
     ]
    }
   ],
   "source": [
    "print(np.arange(10))"
   ]
  },
  {
   "cell_type": "code",
   "execution_count": 21,
   "metadata": {
    "ExecuteTime": {
     "end_time": "2020-02-28T02:00:33.126275Z",
     "start_time": "2020-02-28T02:00:33.108270Z"
    }
   },
   "outputs": [
    {
     "name": "stdout",
     "output_type": "stream",
     "text": [
      "[1.2 2.8 5.  4.8 1. ]\n",
      "float64\n",
      "[1 2 5 4 1]\n"
     ]
    }
   ],
   "source": [
    "arr = np.array([1.2, 2.8, 5.0, 4.8, 1.0])\n",
    "print(arr)\n",
    "print(arr.dtype)\n",
    "# 尽管会失去精度，但是依然可以转换\n",
    "print(arr.astype(np.int32))"
   ]
  },
  {
   "cell_type": "markdown",
   "metadata": {},
   "source": [
    "### np的矢量化"
   ]
  },
  {
   "cell_type": "code",
   "execution_count": 22,
   "metadata": {
    "ExecuteTime": {
     "end_time": "2020-02-28T02:10:57.027279Z",
     "start_time": "2020-02-28T02:10:57.010279Z"
    }
   },
   "outputs": [
    {
     "data": {
      "text/plain": [
       "array([ 6,  8, 10, 12])"
      ]
     },
     "execution_count": 22,
     "metadata": {},
     "output_type": "execute_result"
    }
   ],
   "source": [
    "arr1 = np.array([1, 2, 3, 4])\n",
    "arr2 = np.array([5, 6, 7, 8])\n",
    "arr1 + arr2"
   ]
  },
  {
   "cell_type": "code",
   "execution_count": 24,
   "metadata": {
    "ExecuteTime": {
     "end_time": "2020-02-28T02:13:03.171118Z",
     "start_time": "2020-02-28T02:13:03.153112Z"
    }
   },
   "outputs": [
    {
     "data": {
      "text/plain": [
       "array([[ 6,  8, 10, 12],\n",
       "       [10, 12, 14, 16]])"
      ]
     },
     "execution_count": 24,
     "metadata": {},
     "output_type": "execute_result"
    }
   ],
   "source": [
    "arr1 = np.array([[1, 2, 3, 4], [5, 6, 7, 8]])\n",
    "arr2 = np.array([[5, 6, 7, 8], [5, 6, 7, 8]])\n",
    "arr1 + arr2"
   ]
  },
  {
   "cell_type": "code",
   "execution_count": 25,
   "metadata": {
    "ExecuteTime": {
     "end_time": "2020-02-28T02:13:40.201970Z",
     "start_time": "2020-02-28T02:13:40.178964Z"
    }
   },
   "outputs": [
    {
     "name": "stdout",
     "output_type": "stream",
     "text": [
      "[[-4 -4 -4 -4]\n",
      " [ 0  0  0  0]]\n",
      "[[4 4 4 4]\n",
      " [0 0 0 0]]\n"
     ]
    }
   ],
   "source": [
    "arr1 = np.array([[1, 2, 3, 4], [5, 6, 7, 8]])\n",
    "arr2 = np.array([[5, 6, 7, 8], [5, 6, 7, 8]])\n",
    "print(arr1 - arr2)\n",
    "print(arr2 - arr1)"
   ]
  },
  {
   "cell_type": "code",
   "execution_count": 26,
   "metadata": {
    "ExecuteTime": {
     "end_time": "2020-02-28T02:14:36.260302Z",
     "start_time": "2020-02-28T02:14:36.235281Z"
    }
   },
   "outputs": [
    {
     "data": {
      "text/plain": [
       "array([[0.2       , 0.33333333, 0.42857143, 0.5       ],\n",
       "       [1.        , 1.        , 1.        , 1.        ]])"
      ]
     },
     "execution_count": 26,
     "metadata": {},
     "output_type": "execute_result"
    }
   ],
   "source": [
    "arr1 = np.array([[1, 2, 3, 4], [5, 6, 7, 8]])\n",
    "arr2 = np.array([[5, 6, 7, 8], [5, 6, 7, 8]])\n",
    "arr1 / arr2"
   ]
  },
  {
   "cell_type": "code",
   "execution_count": 27,
   "metadata": {
    "ExecuteTime": {
     "end_time": "2020-02-28T02:21:33.147337Z",
     "start_time": "2020-02-28T02:21:33.128330Z"
    }
   },
   "outputs": [
    {
     "name": "stdout",
     "output_type": "stream",
     "text": [
      "[[1 2 3]\n",
      " [2 3 4]\n",
      " [3 4 5]\n",
      " [4 5 6]]\n"
     ]
    }
   ],
   "source": [
    "arr1 = np.array([[0, 0, 0],[1, 1, 1],[2, 2, 2], [3, 3, 3]])  #arr1.shape = (4,3)\n",
    "arr2 = np.array([1, 2, 3])    #arr2.shape = (3,)\n",
    "arr_sum = arr1 + arr2\n",
    "print(arr_sum)"
   ]
  },
  {
   "cell_type": "markdown",
   "metadata": {},
   "source": [
    "### numpy数组的索引和切片"
   ]
  },
  {
   "cell_type": "code",
   "execution_count": 31,
   "metadata": {
    "ExecuteTime": {
     "end_time": "2020-02-28T02:27:25.051727Z",
     "start_time": "2020-02-28T02:27:25.024724Z"
    }
   },
   "outputs": [
    {
     "name": "stdout",
     "output_type": "stream",
     "text": [
      "[0 1 2 3 4 5 6 7 8 9]\n",
      "2\n",
      "[4 5 6 7 8 9]\n",
      "[11 11 11 11  4  5  6  7  8  9]\n"
     ]
    }
   ],
   "source": [
    "arr = np.arange(10)\n",
    "print(arr)\n",
    "# 跟python里的list类似\n",
    "print(arr[2])\n",
    "print(arr[4:])\n",
    "\n",
    "arr[0:4] = 11\n",
    "print(arr)\n",
    "\n",
    "# 如果不想影响元数组（copy）\n",
    "# 这点也和list非常相似，list中赋值其实也是一种引用，如a=b,a改变了b也随之改变。因为这是浅拷贝，深拷贝需要用到copy方法\n",
    "arr_copy = arr.copy()\n",
    "print(arr_copy)"
   ]
  },
  {
   "cell_type": "code",
   "execution_count": 35,
   "metadata": {
    "ExecuteTime": {
     "end_time": "2020-02-28T02:53:13.077750Z",
     "start_time": "2020-02-28T02:53:13.059745Z"
    }
   },
   "outputs": [
    {
     "name": "stdout",
     "output_type": "stream",
     "text": [
      "2\n",
      "2\n",
      "[2 5]\n",
      "[2]\n"
     ]
    }
   ],
   "source": [
    "# 二维数组\n",
    "arr = np.array([[1, 2, 3], [4, 5, 6]])\n",
    "print(arr[0][1])\n",
    "print(arr[0, 1])  #等价\n",
    "print(arr[:,1])\n",
    "print(arr[0:1,1])"
   ]
  },
  {
   "cell_type": "code",
   "execution_count": 46,
   "metadata": {
    "ExecuteTime": {
     "end_time": "2020-02-28T03:28:46.224926Z",
     "start_time": "2020-02-28T03:28:46.197917Z"
    }
   },
   "outputs": [
    {
     "name": "stdout",
     "output_type": "stream",
     "text": [
      "[[0. 0. 0. 0.]\n",
      " [1. 1. 1. 1.]\n",
      " [2. 2. 2. 2.]\n",
      " [3. 3. 3. 3.]\n",
      " [4. 4. 4. 4.]\n",
      " [5. 5. 5. 5.]\n",
      " [6. 6. 6. 6.]\n",
      " [7. 7. 7. 7.]]\n",
      "\n",
      "[[1. 1. 1. 1.]\n",
      " [5. 5. 5. 5.]\n",
      " [3. 3. 3. 3.]\n",
      " [6. 6. 6. 6.]]\n",
      "\n",
      "[[1. 1. 1. 1.]\n",
      " [6. 6. 6. 6.]\n",
      " [5. 5. 5. 5.]]\n"
     ]
    }
   ],
   "source": [
    "# 花式索引\n",
    "arr = np.empty((8,4))\n",
    "for i in range(8):\n",
    "    arr[i] = i\n",
    "print(arr)\n",
    "print()\n",
    "print(arr[[1, 5, 3, 6]])\n",
    "print()\n",
    "# 复数从后往前数\n",
    "print(arr[[1, -2, -3]])"
   ]
  },
  {
   "cell_type": "code",
   "execution_count": 60,
   "metadata": {
    "ExecuteTime": {
     "end_time": "2020-02-28T04:19:23.390293Z",
     "start_time": "2020-02-28T04:19:23.362291Z"
    }
   },
   "outputs": [
    {
     "name": "stdout",
     "output_type": "stream",
     "text": [
      "[[ 4  5  6  7]\n",
      " [20 21 22 23]\n",
      " [28 29 30 31]\n",
      " [12 13 14 15]]\n",
      "\n",
      "[ 4 22 29 15]\n",
      "\n",
      "[[ 4  7  5  6]\n",
      " [20 23 21 22]\n",
      " [28 31 29 30]\n",
      " [ 8 11  9 10]]\n",
      "[[ 4  7  5  6]\n",
      " [20 23 21 22]\n",
      " [28 31 29 30]\n",
      " [ 8 11  9 10]]\n"
     ]
    }
   ],
   "source": [
    "arr = np.arange(32).reshape((8,4))\n",
    "print(arr[[1, 5, 7, 3]])\n",
    "print()\n",
    "print(arr[[1, 5, 7, 3],[0, 2, 1, 3]])\n",
    "print()\n",
    "# 来个复杂的\n",
    "print(arr[[1, 5, 7, 2]][:,[0, 3, 1, 2]])\n",
    "print(arr[np.ix_([1, 5, 7, 2],[0, 3, 1, 2])])"
   ]
  },
  {
   "cell_type": "markdown",
   "metadata": {},
   "source": [
    "### 比较运算"
   ]
  },
  {
   "cell_type": "code",
   "execution_count": 41,
   "metadata": {
    "ExecuteTime": {
     "end_time": "2020-02-28T03:00:21.503805Z",
     "start_time": "2020-02-28T03:00:21.480804Z"
    }
   },
   "outputs": [
    {
     "name": "stdout",
     "output_type": "stream",
     "text": [
      "[ True False False]\n",
      "False\n",
      "[False False False]\n",
      "[ True  True False]\n"
     ]
    }
   ],
   "source": [
    "names = np.array(['Tony', 'Jack', 'Robin'])\n",
    "print(names == \"Tony\")\n",
    "# 和list比较\n",
    "names_compare = ['Tony', 'Jack', 'Robin']\n",
    "print(names_compare == \"Tony\")\n",
    "\n",
    "print((names == \"Tony\") & (names == \"Jack\"))\n",
    "print((names == \"Tony\") | (names == \"Jack\"))"
   ]
  },
  {
   "cell_type": "markdown",
   "metadata": {},
   "source": [
    "### 转置"
   ]
  },
  {
   "cell_type": "code",
   "execution_count": 73,
   "metadata": {
    "ExecuteTime": {
     "end_time": "2020-02-28T07:06:09.216863Z",
     "start_time": "2020-02-28T07:06:09.196863Z"
    }
   },
   "outputs": [
    {
     "name": "stdout",
     "output_type": "stream",
     "text": [
      "[[ 0  5 10]\n",
      " [ 1  6 11]\n",
      " [ 2  7 12]\n",
      " [ 3  8 13]\n",
      " [ 4  9 14]]\n",
      "\n",
      "[[ 0  5 10]\n",
      " [ 1  6 11]\n",
      " [ 2  7 12]\n",
      " [ 3  8 13]\n",
      " [ 4  9 14]]\n"
     ]
    }
   ],
   "source": [
    "arr = np.arange(15).reshape((3,5))\n",
    "print(arr.T)\n",
    "print()\n",
    "print(arr.transpose())"
   ]
  },
  {
   "cell_type": "code",
   "execution_count": 77,
   "metadata": {
    "ExecuteTime": {
     "end_time": "2020-02-28T07:09:15.538661Z",
     "start_time": "2020-02-28T07:09:15.513655Z"
    }
   },
   "outputs": [
    {
     "name": "stdout",
     "output_type": "stream",
     "text": [
      "\n",
      "[[[ 0 12]\n",
      "  [ 4 16]\n",
      "  [ 8 20]]\n",
      "\n",
      " [[ 1 13]\n",
      "  [ 5 17]\n",
      "  [ 9 21]]\n",
      "\n",
      " [[ 2 14]\n",
      "  [ 6 18]\n",
      "  [10 22]]\n",
      "\n",
      " [[ 3 15]\n",
      "  [ 7 19]\n",
      "  [11 23]]]\n",
      "\n",
      "[[[ 0  1  2  3]\n",
      "  [12 13 14 15]]\n",
      "\n",
      " [[ 4  5  6  7]\n",
      "  [16 17 18 19]]\n",
      "\n",
      " [[ 8  9 10 11]\n",
      "  [20 21 22 23]]]\n",
      "\n",
      "[[[ 0 12]\n",
      "  [ 4 16]\n",
      "  [ 8 20]]\n",
      "\n",
      " [[ 1 13]\n",
      "  [ 5 17]\n",
      "  [ 9 21]]\n",
      "\n",
      " [[ 2 14]\n",
      "  [ 6 18]\n",
      "  [10 22]]\n",
      "\n",
      " [[ 3 15]\n",
      "  [ 7 19]\n",
      "  [11 23]]]\n"
     ]
    }
   ],
   "source": [
    "arr = np.arange(24).reshape((2, 3, 4))\n",
    "print()\n",
    "print(arr.transpose((2, 1, 0)))\n",
    "print()\n",
    "print(arr.transpose((1, 0, 2)))\n",
    "print()\n",
    "print(arr.T)"
   ]
  },
  {
   "cell_type": "markdown",
   "metadata": {},
   "source": [
    "### 条件逻辑转数组"
   ]
  },
  {
   "cell_type": "code",
   "execution_count": 80,
   "metadata": {
    "ExecuteTime": {
     "end_time": "2020-02-28T07:30:36.293948Z",
     "start_time": "2020-02-28T07:30:36.264940Z"
    }
   },
   "outputs": [
    {
     "name": "stdout",
     "output_type": "stream",
     "text": [
      "[1.2, 2.6, 4.3]\n",
      "[1.2 2.6 4.3]\n"
     ]
    }
   ],
   "source": [
    "x_arr = np.array([1.2, 2.4, 4.3])\n",
    "y_arr = np.array([1.3, 2.6, 2.3])\n",
    "condition = np.array([True, False, True])\n",
    "# zip参数接收的是可迭代的对象\n",
    "# zip()函数用来接收可迭代对象，将对象中对应的元素打包成一个大元组，然后返回由这些元组返回的列表\n",
    "result = [x if c else y for x, y, c in zip(x_arr, y_arr, condition)]\n",
    "print(result)\n",
    "\n",
    "r = np.where(condition, x_arr, y_arr)\n",
    "print(r)"
   ]
  },
  {
   "cell_type": "code",
   "execution_count": 84,
   "metadata": {
    "ExecuteTime": {
     "end_time": "2020-02-28T07:33:47.770680Z",
     "start_time": "2020-02-28T07:33:47.753684Z"
    }
   },
   "outputs": [
    {
     "name": "stdout",
     "output_type": "stream",
     "text": [
      "[[ 1  1  1  1]\n",
      " [ 1 -1 -1 -1]\n",
      " [ 1 -1  1 -1]\n",
      " [ 1  1 -1  1]]\n",
      "(array([1, 1, 1, 2, 2, 3], dtype=int64), array([1, 2, 3, 1, 3, 2], dtype=int64))\n"
     ]
    }
   ],
   "source": [
    "arr1 = np.random.randn(4, 4)\n",
    "print(np.where(arr1 > 0, -1, 1))\n",
    "# 可以没有后面的参数，返回一个离散的坐标\n",
    "print(np.where(arr1 > 0))"
   ]
  },
  {
   "cell_type": "markdown",
   "metadata": {},
   "source": [
    "### numpy的数学运算"
   ]
  },
  {
   "cell_type": "code",
   "execution_count": 101,
   "metadata": {
    "ExecuteTime": {
     "end_time": "2020-02-28T07:45:56.913141Z",
     "start_time": "2020-02-28T07:45:56.874122Z"
    }
   },
   "outputs": [
    {
     "name": "stdout",
     "output_type": "stream",
     "text": [
      "[[-2.1235191  -1.45925495 -0.05787264  0.62633767]\n",
      " [-2.18731644 -1.92742311 -1.54021783  0.14944866]\n",
      " [ 1.69555898 -1.00154268 -0.07904535 -1.10566814]\n",
      " [-1.30973446  1.94033003  0.75622227  0.8005124 ]]\n",
      "-0.4264490429910316\n",
      "-0.4264490429910316\n",
      "-6.8231846878565054\n",
      "1.294660193291084\n",
      "[-0.75357725 -1.37637718 -0.1226743   0.54683256]\n",
      "[-3.92501101 -2.44789072 -0.92091355  0.47063059]\n",
      "13\n",
      "13\n"
     ]
    }
   ],
   "source": [
    "arr = np.random.randn(4, 4)\n",
    "print(arr)\n",
    "# 求平均值\n",
    "print(arr.mean())\n",
    "print(np.mean(arr))\n",
    "# 求和\n",
    "print(arr.sum())\n",
    "# 标准差 \n",
    "print(arr.std())\n",
    "\n",
    "# 在一个维度(轴)上进行运算\n",
    "print(arr.mean(axis=1))\n",
    "print(arr.sum(axis=0))\n",
    "# 写到这个我懵逼了一下，后来一想这是返回最大数字的坐标，13-->第14个数  4行2列\n",
    "print(arr.argmax())\n",
    "print(np.argmax(arr))"
   ]
  },
  {
   "cell_type": "markdown",
   "metadata": {},
   "source": [
    "### 排序"
   ]
  },
  {
   "cell_type": "code",
   "execution_count": 105,
   "metadata": {
    "ExecuteTime": {
     "end_time": "2020-02-28T07:57:22.623592Z",
     "start_time": "2020-02-28T07:57:22.606592Z"
    }
   },
   "outputs": [
    {
     "name": "stdout",
     "output_type": "stream",
     "text": [
      "[ 0.38851673 -0.94852799 -0.64957929 -0.92983469]\n",
      "[-0.94852799 -0.92983469 -0.64957929  0.38851673]\n"
     ]
    }
   ],
   "source": [
    "arr = np.random.randn(4)\n",
    "print(arr)\n",
    "arr.sort()\n",
    "print(arr)\n"
   ]
  },
  {
   "cell_type": "code",
   "execution_count": 117,
   "metadata": {
    "ExecuteTime": {
     "end_time": "2020-02-28T08:03:39.211426Z",
     "start_time": "2020-02-28T08:03:39.189420Z"
    }
   },
   "outputs": [
    {
     "name": "stdout",
     "output_type": "stream",
     "text": [
      "[[3 5 5 1]\n",
      " [4 5 8 8]\n",
      " [8 5 3 2]\n",
      " [6 7 2 9]]\n",
      "\n",
      "[[1 3 5 5]\n",
      " [4 5 8 8]\n",
      " [2 3 5 8]\n",
      " [2 6 7 9]]\n",
      "[[1 3 5 5]\n",
      " [4 5 8 8]\n",
      " [2 3 5 8]\n",
      " [2 6 7 9]]\n"
     ]
    }
   ],
   "source": [
    "# 多维排序\n",
    "arr = np.random.randint(1, 10, (4, 4))\n",
    "print(arr)\n",
    "arr.sort(1)   # 0是每列有序，1是每行有序\n",
    "print()\n",
    "print(arr)\n",
    "arr.sort()\n",
    "print(arr)"
   ]
  },
  {
   "cell_type": "markdown",
   "metadata": {},
   "source": [
    "### numpy操作文件"
   ]
  },
  {
   "cell_type": "code",
   "execution_count": 120,
   "metadata": {
    "ExecuteTime": {
     "end_time": "2020-02-28T08:15:41.569902Z",
     "start_time": "2020-02-28T08:15:41.538895Z"
    }
   },
   "outputs": [
    {
     "name": "stdout",
     "output_type": "stream",
     "text": [
      "[0 1 2 3 4 5 6 7 8 9]\n",
      "[0 1 2 3 4 5 6 7 8 9]\n"
     ]
    }
   ],
   "source": [
    "arr = np.arange(10)\n",
    "print(arr)\n",
    "np.save('save_file', arr)  # 不可直接读取，需要load\n",
    "print(np.load('save_file.npy'))"
   ]
  },
  {
   "cell_type": "code",
   "execution_count": 124,
   "metadata": {
    "ExecuteTime": {
     "end_time": "2020-02-28T08:20:31.153095Z",
     "start_time": "2020-02-28T08:20:31.105964Z"
    }
   },
   "outputs": [
    {
     "name": "stdout",
     "output_type": "stream",
     "text": [
      "[0 1 2 3 4 5 6 7 8 9]\n",
      "[10 11 12 13 14 15 16 17 18 19]\n"
     ]
    }
   ],
   "source": [
    "arr = np.arange(10)\n",
    "arr2 = np.arange(10,20)\n",
    "# 保存为一个压缩文件 以关键字参数的形式传入，load时也用关键字取出\n",
    "np.savez('save_file', a=arr, b=arr2)\n",
    "print(np.load('save_file.npz')['a'])\n",
    "print(np.load('save_file.npz')['b'])"
   ]
  },
  {
   "cell_type": "code",
   "execution_count": 125,
   "metadata": {
    "ExecuteTime": {
     "end_time": "2020-02-28T08:26:05.850358Z",
     "start_time": "2020-02-28T08:26:05.783321Z"
    }
   },
   "outputs": [
    {
     "data": {
      "text/plain": [
       "array([0., 1., 2., 3., 4., 5., 6., 7., 8., 9.])"
      ]
     },
     "execution_count": 125,
     "metadata": {},
     "output_type": "execute_result"
    }
   ],
   "source": [
    "arr = np.arange(10)\n",
    "np.savetxt('test.txt', arr, delimiter=',')\n",
    "np.loadtxt('test.txt', delimiter=',')"
   ]
  },
  {
   "cell_type": "markdown",
   "metadata": {},
   "source": [
    "### 线性代数"
   ]
  },
  {
   "cell_type": "code",
   "execution_count": 134,
   "metadata": {
    "ExecuteTime": {
     "end_time": "2020-02-28T08:38:26.486429Z",
     "start_time": "2020-02-28T08:38:26.472419Z"
    }
   },
   "outputs": [
    {
     "data": {
      "text/plain": [
       "array([[285]])"
      ]
     },
     "execution_count": 134,
     "metadata": {},
     "output_type": "execute_result"
    }
   ],
   "source": [
    "# dot 矩阵相乘\n",
    "arr = np.arange(10)\n",
    "a1 = arr.reshape((-1,10))\n",
    "a2 = a1.T\n",
    "a1.dot(a2)\n",
    "\n",
    "# trace 计算对角线元素之和\n",
    "# det 计算矩阵的行列式\n",
    "# eig 计算方针的本征值和本征向量\n",
    "# inv 计算方针的逆"
   ]
  },
  {
   "cell_type": "code",
   "execution_count": 152,
   "metadata": {
    "ExecuteTime": {
     "end_time": "2020-02-28T08:55:42.770362Z",
     "start_time": "2020-02-28T08:55:42.393262Z"
    }
   },
   "outputs": [
    {
     "data": {
      "image/png": "[encoded data removed]",
      "text/plain": [
       "<Figure size 432x288 with 1 Axes>"
      ]
     },
     "metadata": {},
     "output_type": "display_data"
    },
    {
     "name": "stdout",
     "output_type": "stream",
     "text": [
      "[False False False ...  True  True  True]\n"
     ]
    }
   ],
   "source": [
    "# 随机漫步（random walk）的一个例子\n",
    "# 求什么时候距离初始点10步远\n",
    "import matplotlib.pyplot as plt\n",
    "\n",
    "position = 0\n",
    "walk = [position]\n",
    "steps = 1000\n",
    "for i in range(steps):\n",
    "    step = 1 if np.random.randint(0, 2) else -1\n",
    "    position += step\n",
    "    walk.append(position)\n",
    "plt.plot(walk)\n",
    "plt.show()\n",
    "print((np.abs(walk) > 10).argmax())"
   ]
  },
  {
   "cell_type": "code",
   "execution_count": 157,
   "metadata": {
    "ExecuteTime": {
     "end_time": "2020-02-28T08:57:27.111572Z",
     "start_time": "2020-02-28T08:57:27.095564Z"
    }
   },
   "outputs": [
    {
     "data": {
      "text/plain": [
       "3"
      ]
     },
     "execution_count": 157,
     "metadata": {},
     "output_type": "execute_result"
    }
   ],
   "source": [
    "a = np.array([False,False,False,True,True,True,True])\n",
    "a.argmax()"
   ]
  },
  {
   "cell_type": "code",
   "execution_count": null,
   "metadata": {},
   "outputs": [],
   "source": []
  }
 ],
 "metadata": {
  "kernelspec": {
   "display_name": "pytorch",
   "language": "python",
   "name": "pytorch"
  },
  "language_info": {
   "codemirror_mode": {
    "name": "ipython",
    "version": 3
   },
   "file_extension": ".py",
   "mimetype": "text/x-python",
   "name": "python",
   "nbconvert_exporter": "python",
   "pygments_lexer": "ipython3",
   "version": "3.6.9"
  },
  "varInspector": {
   "cols": {
    "lenName": 16,
    "lenType": 16,
    "lenVar": 40
   },
   "kernels_config": {
    "python": {
     "delete_cmd_postfix": "",
     "delete_cmd_prefix": "del ",
     "library": "var_list.py",
     "varRefreshCmd": "print(var_dic_list())"
    },
    "r": {
     "delete_cmd_postfix": ") ",
     "delete_cmd_prefix": "rm(",
     "library": "var_list.r",
     "varRefreshCmd": "cat(var_dic_list()) "
    }
   },
   "types_to_exclude": [
    "module",
    "function",
    "builtin_function_or_method",
    "instance",
    "_Feature"
   ],
   "window_display": false
  }
 },
 "nbformat": 4,
 "nbformat_minor": 2
}
