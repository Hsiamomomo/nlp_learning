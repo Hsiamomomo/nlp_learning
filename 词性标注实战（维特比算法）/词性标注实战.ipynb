{
 "cells": [
  {
   "cell_type": "markdown",
   "metadata": {},
   "source": [
    "### 词性标注实战（图非常重要）"
   ]
  },
  {
   "cell_type": "markdown",
   "metadata": {},
   "source": [
    "![image.png](https://blogimage-1254175201.cos.ap-shanghai.myqcloud.com/blog/clipboard_20200308090434.png)\n",
    "\n",
    "注意左下角的emission probability只是为了简化做的一个假设：每个单词只和当前的词性相关。"
   ]
  },
  {
   "cell_type": "code",
   "execution_count": 2,
   "metadata": {
    "ExecuteTime": {
     "end_time": "2020-03-10T07:00:27.420502Z",
     "start_time": "2020-03-10T07:00:26.999369Z"
    }
   },
   "outputs": [],
   "source": [
    "tag2id, id2tag = {}, {}\n",
    "word2id, id2word = {}, {}\n",
    "\n",
    "with open('./traindata.txt') as f:\n",
    "    lines = f.readlines()\n",
    "    for line in lines:\n",
    "        param = line.strip().split(r'/')\n",
    "        if tag2id.get(param[1]) is None:\n",
    "            tag2id[param[1]] = len(tag2id)\n",
    "            id2tag[len(tag2id)-1] = param[1]\n",
    "        if word2id.get(param[0]) is None:\n",
    "            word2id[param[0]] = len(word2id)\n",
    "            id2word[len(word2id)-1] = param[0]\n",
    "\n"
   ]
  },
  {
   "cell_type": "code",
   "execution_count": 9,
   "metadata": {
    "ExecuteTime": {
     "end_time": "2020-03-10T07:09:29.441703Z",
     "start_time": "2020-03-10T07:09:29.421696Z"
    }
   },
   "outputs": [],
   "source": [
    "import numpy as np\n",
    "\n",
    "N = len(tag2id)\n",
    "M = len(word2id)\n",
    "\n",
    "pi = np.zeros(N)     # pi[i]  词性i作为句子开头的概率，可以看作是语言模型的第一个概率\n",
    "A = np.zeros((N, M))  # A[i][j] 词性i下出现单词j的概率\n",
    "B = np.zeros((N, N))  # B[i][j] 一句话中词性i的下一个是词性j的概率\n",
    "\n"
   ]
  },
  {
   "cell_type": "code",
   "execution_count": 10,
   "metadata": {
    "ExecuteTime": {
     "end_time": "2020-03-10T07:23:08.889404Z",
     "start_time": "2020-03-10T07:23:07.640981Z"
    }
   },
   "outputs": [],
   "source": [
    "# 求参数pi，A，B\n",
    "pre_word = '.'\n",
    "\n",
    "for line in open('./traindata.txt'):\n",
    "    param = line.strip().split(r'/')\n",
    "    if pre_word == '.':\n",
    "        pi[tag2id[param[1]]] += 1\n",
    "        A[tag2id[param[1]]][word2id[param[0]]] += 1\n",
    "    else:\n",
    "        A[tag2id[param[1]]][word2id[param[0]]] += 1\n",
    "        B[tag2id[pre_word]][tag2id[param[1]]] += 1\n",
    "    pre_word = param[1].rstrip()"
   ]
  },
  {
   "cell_type": "code",
   "execution_count": 13,
   "metadata": {
    "ExecuteTime": {
     "end_time": "2020-03-10T07:25:00.107454Z",
     "start_time": "2020-03-10T07:24:59.480292Z"
    }
   },
   "outputs": [],
   "source": [
    "# 归一化\n",
    "pi = pi/sum(pi)\n",
    "for i in range(N):\n",
    "    A[i] = A[i]/sum(A[i])\n",
    "    B[i] = B[i]/sum(A[i])\n",
    "    "
   ]
  },
  {
   "cell_type": "code",
   "execution_count": 14,
   "metadata": {
    "ExecuteTime": {
     "end_time": "2020-03-10T07:35:45.108229Z",
     "start_time": "2020-03-10T07:35:45.098226Z"
    }
   },
   "outputs": [],
   "source": [
    "def log(v):\n",
    "    if v == 0:\n",
    "        return np.log(v+0.000001)\n",
    "    return np.log(v)"
   ]
  },
  {
   "cell_type": "code",
   "execution_count": 62,
   "metadata": {
    "ExecuteTime": {
     "end_time": "2020-03-10T08:39:17.911681Z",
     "start_time": "2020-03-10T08:39:17.776638Z"
    }
   },
   "outputs": [],
   "source": [
    "# Viterbi Alogirithm\n",
    "def viterbi(sentence, pi, A, B):\n",
    "    s = [word2id[w] for w in sentence]\n",
    "    # 求出集合s的长度\n",
    "    l = len(s)\n",
    "    dp = np.zeros((N, l))\n",
    "    path = np.zeros((N, l))\n",
    "    for i in range(N):\n",
    "        dp[i][0] = log(pi[i]) + log(A[i][s[0]])\n",
    "    \n",
    "    for i in range(1, l):\n",
    "        for j in range(N):\n",
    "            dp[j][i] = -9999\n",
    "            for k in range(N):\n",
    "                if dp[k][i-1] + log(B[k][j]) + log(A[j][s[i]]) > dp[j][i]:\n",
    "                    dp[j][i] = dp[k][i-1] + log(B[k][j]) + log(A[j][s[i]])\n",
    "                    path[j][i] = k\n",
    "                 \n",
    "    best_seq = []\n",
    "    best_seq.append(np.argmax(dp[:,l-1]))\n",
    "    for i in range(l-2, -1, -1):\n",
    "        best_seq.append(int(path[best_seq[-1]][i+1]))\n",
    "    best_seq = best_seq[::-1]    \n",
    "    best_seq = [id2tag[t] for t in best_seq]\n",
    "        \n",
    "    print(best_seq)\n",
    "        "
   ]
  },
  {
   "cell_type": "code",
   "execution_count": 63,
   "metadata": {
    "ExecuteTime": {
     "end_time": "2020-03-10T08:39:20.038759Z",
     "start_time": "2020-03-10T08:39:19.531517Z"
    }
   },
   "outputs": [
    {
     "name": "stdout",
     "output_type": "stream",
     "text": [
      "['NNP', 'NNP', 'NN', ',', 'NN', 'NN', 'CC', 'NNS', 'IN', 'DT', 'NNS', 'VBN', 'IN', 'DT', 'NN']\n"
     ]
    }
   ],
   "source": [
    "x = \"Social Security number , passport number and details about the services provided for the payment\"\n",
    "x = [word for word in x.split(\" \")]\n",
    "viterbi(x, pi, A, B)"
   ]
  }
 ],
 "metadata": {
  "kernelspec": {
   "display_name": "pytorch",
   "language": "python",
   "name": "pytorch"
  },
  "language_info": {
   "codemirror_mode": {
    "name": "ipython",
    "version": 3
   },
   "file_extension": ".py",
   "mimetype": "text/x-python",
   "name": "python",
   "nbconvert_exporter": "python",
   "pygments_lexer": "ipython3",
   "version": "3.6.9"
  },
  "varInspector": {
   "cols": {
    "lenName": 16,
    "lenType": 16,
    "lenVar": 40
   },
   "kernels_config": {
    "python": {
     "delete_cmd_postfix": "",
     "delete_cmd_prefix": "del ",
     "library": "var_list.py",
     "varRefreshCmd": "print(var_dic_list())"
    },
    "r": {
     "delete_cmd_postfix": ") ",
     "delete_cmd_prefix": "rm(",
     "library": "var_list.r",
     "varRefreshCmd": "cat(var_dic_list()) "
    }
   },
   "types_to_exclude": [
    "module",
    "function",
    "builtin_function_or_method",
    "instance",
    "_Feature"
   ],
   "window_display": false
  }
 },
 "nbformat": 4,
 "nbformat_minor": 2
}
