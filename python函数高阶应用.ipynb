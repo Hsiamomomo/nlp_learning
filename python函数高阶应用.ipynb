{
 "cells": [
  {
   "cell_type": "markdown",
   "metadata": {},
   "source": [
    "### lambda表达式"
   ]
  },
  {
   "cell_type": "code",
   "execution_count": 1,
   "metadata": {
    "ExecuteTime": {
     "end_time": "2020-02-27T01:58:39.319324Z",
     "start_time": "2020-02-27T01:58:39.285313Z"
    }
   },
   "outputs": [
    {
     "data": {
      "text/plain": [
       "7"
      ]
     },
     "execution_count": 1,
     "metadata": {},
     "output_type": "execute_result"
    }
   ],
   "source": [
    "a = lambda x,y:x+y\n",
    "a(3, 4)\n"
   ]
  },
  {
   "cell_type": "code",
   "execution_count": 2,
   "metadata": {
    "ExecuteTime": {
     "end_time": "2020-02-27T01:58:48.497801Z",
     "start_time": "2020-02-27T01:58:48.484796Z"
    }
   },
   "outputs": [
    {
     "data": {
      "text/plain": [
       "7"
      ]
     },
     "execution_count": 2,
     "metadata": {},
     "output_type": "execute_result"
    }
   ],
   "source": [
    "def add(x,y):\n",
    "    return x+y\n",
    "\n",
    "add(3,4)"
   ]
  },
  {
   "cell_type": "markdown",
   "metadata": {},
   "source": [
    "### 三元运算符"
   ]
  },
  {
   "cell_type": "code",
   "execution_count": 3,
   "metadata": {
    "ExecuteTime": {
     "end_time": "2020-02-27T02:09:13.781048Z",
     "start_time": "2020-02-27T02:09:13.763043Z"
    }
   },
   "outputs": [
    {
     "data": {
      "text/plain": [
       "1"
      ]
     },
     "execution_count": 3,
     "metadata": {},
     "output_type": "execute_result"
    }
   ],
   "source": [
    "condition = True\n",
    "ans = 1 if condition else 2\n",
    "ans"
   ]
  },
  {
   "cell_type": "code",
   "execution_count": null,
   "metadata": {},
   "outputs": [],
   "source": [
    "condition = False\n",
    "ans = 1 if condition else 2\n",
    "ans"
   ]
  },
  {
   "cell_type": "markdown",
   "metadata": {},
   "source": [
    "### map函数的应用"
   ]
  },
  {
   "cell_type": "code",
   "execution_count": 4,
   "metadata": {
    "ExecuteTime": {
     "end_time": "2020-02-27T02:27:42.523513Z",
     "start_time": "2020-02-27T02:27:42.500501Z"
    }
   },
   "outputs": [
    {
     "name": "stdout",
     "output_type": "stream",
     "text": [
      "[2, 4, 6, 8, 10]\n"
     ]
    }
   ],
   "source": [
    "list1 = [1, 2, 3, 4, 5]\n",
    "r = map(lambda x:x+x, list1)\n",
    "print(list(r))"
   ]
  },
  {
   "cell_type": "code",
   "execution_count": 6,
   "metadata": {
    "ExecuteTime": {
     "end_time": "2020-02-27T02:31:42.214917Z",
     "start_time": "2020-02-27T02:31:42.199031Z"
    }
   },
   "outputs": [
    {
     "data": {
      "text/plain": [
       "[2, 6, 12, 20]"
      ]
     },
     "execution_count": 6,
     "metadata": {},
     "output_type": "execute_result"
    }
   ],
   "source": [
    "m1 = map(lambda x,y:x*x+y, [1, 2, 3, 4], [1, 2, 3, 4])\n",
    "list(m1)"
   ]
  },
  {
   "cell_type": "markdown",
   "metadata": {},
   "source": [
    "### filter过滤器"
   ]
  },
  {
   "cell_type": "code",
   "execution_count": 10,
   "metadata": {
    "ExecuteTime": {
     "end_time": "2020-02-27T02:53:33.078602Z",
     "start_time": "2020-02-27T02:53:33.058603Z"
    }
   },
   "outputs": [
    {
     "name": "stdout",
     "output_type": "stream",
     "text": [
      "['hello', 'love']\n",
      "['hello', 'love']\n"
     ]
    }
   ],
   "source": [
    "def is_not_none(s):\n",
    "    return s and len(s.strip()) > 0\n",
    "list1 = filter(is_not_none, ['hello', ' ', None, 'love'])\n",
    "list2 = filter(lambda s:s and len(s.strip()) > 0, ['hello', ' ', None, 'love'])\n",
    "print(list(list1))\n",
    "print(list(list2))"
   ]
  },
  {
   "cell_type": "markdown",
   "metadata": {},
   "source": [
    "### reduce函数"
   ]
  },
  {
   "cell_type": "code",
   "execution_count": 12,
   "metadata": {
    "ExecuteTime": {
     "end_time": "2020-02-27T03:01:57.142888Z",
     "start_time": "2020-02-27T03:01:57.121995Z"
    }
   },
   "outputs": [
    {
     "data": {
      "text/plain": [
       "15"
      ]
     },
     "execution_count": 12,
     "metadata": {},
     "output_type": "execute_result"
    }
   ],
   "source": [
    "from functools import reduce\n",
    "f = lambda x, y : x + y\n",
    "reduce(f, [1, 2, 3, 4, 5])"
   ]
  },
  {
   "cell_type": "markdown",
   "metadata": {},
   "source": [
    "### 列表推导式"
   ]
  },
  {
   "cell_type": "code",
   "execution_count": 15,
   "metadata": {
    "ExecuteTime": {
     "end_time": "2020-02-27T04:49:51.475293Z",
     "start_time": "2020-02-27T04:49:51.446408Z"
    }
   },
   "outputs": [
    {
     "name": "stdout",
     "output_type": "stream",
     "text": [
      "[2, 4, 6, 8, 10, 12]\n",
      "[2, 4, 6, 8, 10, 12]\n",
      "[1, 8, 27, 64, 125, 216]\n",
      "[16, 25, 36]\n"
     ]
    }
   ],
   "source": [
    "list1 = [1, 2, 3, 4, 5, 6]\n",
    "f = map(lambda x: x + x, list1)\n",
    "print(list(f))\n",
    "\n",
    "list2 = [i+i for i in list1]\n",
    "print(list2)\n",
    "list3 = [i**3 for i in list1]\n",
    "print(list3)\n",
    "\n",
    "list4 = [i*i for i in list1 if i > 3]\n",
    "print(list4)"
   ]
  },
  {
   "cell_type": "code",
   "execution_count": null,
   "metadata": {},
   "outputs": [],
   "source": []
  },
  {
   "cell_type": "markdown",
   "metadata": {},
   "source": [
    "### 集合推导式"
   ]
  },
  {
   "cell_type": "code",
   "execution_count": 16,
   "metadata": {
    "ExecuteTime": {
     "end_time": "2020-02-27T05:01:01.752088Z",
     "start_time": "2020-02-27T05:01:01.723092Z"
    }
   },
   "outputs": [
    {
     "name": "stdout",
     "output_type": "stream",
     "text": [
      "{2, 4, 6, 8, 10, 12}\n",
      "{64, 1, 8, 216, 27, 125}\n",
      "{16, 25, 36}\n"
     ]
    }
   ],
   "source": [
    "list1 = [1, 2, 3, 4, 5, 6]\n",
    "\n",
    "list2 = {i+i for i in list1}\n",
    "print(list2)\n",
    "list3 = {i**3 for i in list1}\n",
    "print(list3)\n",
    "\n",
    "list4 = {i*i for i in list1 if i > 3}\n",
    "print(list4)"
   ]
  },
  {
   "cell_type": "markdown",
   "metadata": {},
   "source": [
    "### 字典推导式"
   ]
  },
  {
   "cell_type": "code",
   "execution_count": 24,
   "metadata": {
    "ExecuteTime": {
     "end_time": "2020-02-27T05:12:24.940532Z",
     "start_time": "2020-02-27T05:12:24.904522Z"
    }
   },
   "outputs": [
    {
     "name": "stdout",
     "output_type": "stream",
     "text": [
      "['Alice', 'Bob', 'Jack']\n",
      "['Alicexxx', 'Bobxxx', 'Jackxxx']\n",
      "{10: 'Alice', 20: 'Bob', 30: 'Jack'}\n",
      "{'Alice': 10}\n"
     ]
    }
   ],
   "source": [
    "s = {\n",
    "    \"Alice\": 10,\n",
    "    \"Bob\": 20,\n",
    "    \"Jack\": 30\n",
    "}\n",
    "# 拿出所有的key\n",
    "s_key = [key for key, value in s.items()]\n",
    "print(s_key)\n",
    "s_key = [key+\"xxx\" for key, value in s.items()]\n",
    "print(s_key)\n",
    "\n",
    "# key和value颠倒\n",
    "s_key_value = {value:key for key,value in s.items()}\n",
    "print(s_key_value)\n",
    "\n",
    "s_select = {key:value for key,value in s.items() if key == 'Alice'}\n",
    "print(s_select)"
   ]
  },
  {
   "cell_type": "markdown",
   "metadata": {},
   "source": [
    "### 闭包"
   ]
  },
  {
   "cell_type": "code",
   "execution_count": 27,
   "metadata": {
    "ExecuteTime": {
     "end_time": "2020-02-27T05:17:55.580655Z",
     "start_time": "2020-02-27T05:17:55.556647Z"
    }
   },
   "outputs": [
    {
     "name": "stdout",
     "output_type": "stream",
     "text": [
      "1582780675.5656545\n"
     ]
    }
   ],
   "source": [
    "import time\n",
    "\n",
    "# 调用后打印当前时间\n",
    "def run_time():\n",
    "    def now_time():\n",
    "        print(time.time())\n",
    "    return now_time\n",
    "\n",
    "f = run_time()\n",
    "f()\n",
    "# 等价于 run_time()()\n"
   ]
  },
  {
   "cell_type": "code",
   "execution_count": 35,
   "metadata": {
    "ExecuteTime": {
     "end_time": "2020-02-27T05:35:14.124730Z",
     "start_time": "2020-02-27T05:35:14.096723Z"
    }
   },
   "outputs": [
    {
     "name": "stdout",
     "output_type": "stream",
     "text": [
      "['GhostSurf Platinum ensures your safety online by providing an anonymous, encrypted Internet connection, and GhostSurf stops spyware,', 'options enable you to block personal information, mask your IP address, route your data through anonymous hubs and even encrypt your Internet', \"connection. GhostSurf's Privacy Control Center allows you to see and block every piece of data that your computer emits over the Internet,\", 'preventing even your Internet Service Provider (ISP) from creating a profile on you.']\n",
      "4\n"
     ]
    }
   ],
   "source": [
    "# 找到文件中有关键字的行\n",
    "def mak_filter(key_word):\n",
    "    def the_filter(file_name):\n",
    "        doc = [line.strip() for line in open(file_name) if key_word in line]\n",
    "        return doc\n",
    "    return the_filter\n",
    "\n",
    "f = mak_filter('Internet')\n",
    "ans = f('./data/xjbz.txt')\n",
    "print(ans)\n",
    "print(len(ans))\n"
   ]
  },
  {
   "cell_type": "markdown",
   "metadata": {},
   "source": [
    "### 装饰器"
   ]
  },
  {
   "cell_type": "code",
   "execution_count": 40,
   "metadata": {
    "ExecuteTime": {
     "end_time": "2020-02-27T05:58:07.986689Z",
     "start_time": "2020-02-27T05:58:07.955675Z"
    }
   },
   "outputs": [
    {
     "name": "stdout",
     "output_type": "stream",
     "text": [
      "1582783087.97368\n",
      "学生跑\n"
     ]
    }
   ],
   "source": [
    "# 获取函数运行时间\n",
    "import time \n",
    "\n",
    "def runtime(func):\n",
    "    def get_time():\n",
    "        print(time.time())\n",
    "        func()\n",
    "    return get_time\n",
    "\n",
    "@runtime\n",
    "def student_run():\n",
    "    print(\"学生跑\")\n",
    "    \n",
    "student_run()\n",
    "    "
   ]
  },
  {
   "cell_type": "code",
   "execution_count": 41,
   "metadata": {
    "ExecuteTime": {
     "end_time": "2020-02-27T05:58:19.659673Z",
     "start_time": "2020-02-27T05:58:19.632681Z"
    }
   },
   "outputs": [
    {
     "name": "stdout",
     "output_type": "stream",
     "text": [
      "学生跑\n",
      "1582783099.6487942\n"
     ]
    }
   ],
   "source": [
    "# 获取函数运行时间\n",
    "import time \n",
    "\n",
    "def runtime(func):\n",
    "    def get_time():\n",
    "        # 注意这两行和上面的区别\n",
    "        func()\n",
    "        print(time.time())\n",
    "    return get_time\n",
    "\n",
    "@runtime\n",
    "def student_run():\n",
    "    print(\"学生跑\")\n",
    "    \n",
    "student_run()"
   ]
  },
  {
   "cell_type": "code",
   "execution_count": 42,
   "metadata": {
    "ExecuteTime": {
     "end_time": "2020-02-27T08:50:56.471984Z",
     "start_time": "2020-02-27T08:50:56.433977Z"
    }
   },
   "outputs": [
    {
     "name": "stdout",
     "output_type": "stream",
     "text": [
      "学生跑\n",
      "1582793456.4579806\n"
     ]
    }
   ],
   "source": [
    "# 获取函数运行时间\n",
    "import time \n",
    "\n",
    "def runtime(func):\n",
    "    def get_time(i):\n",
    "        # 注意这两行和上面的区别\n",
    "        func(i)\n",
    "        print(time.time())\n",
    "    return get_time\n",
    "\n",
    "@runtime\n",
    "def student_run(i):\n",
    "    print(\"学生跑\")\n",
    "    \n",
    "student_run(1)"
   ]
  },
  {
   "cell_type": "code",
   "execution_count": 47,
   "metadata": {
    "ExecuteTime": {
     "end_time": "2020-02-27T09:21:16.131498Z",
     "start_time": "2020-02-27T09:21:16.082484Z"
    }
   },
   "outputs": [
    {
     "name": "stdout",
     "output_type": "stream",
     "text": [
      "学生跑\n",
      "1582795276.119493\n",
      "学生1跑\n",
      "1582795276.119493\n",
      "学生2跑\n",
      "1582795276.119493\n"
     ]
    }
   ],
   "source": [
    "# 获取函数运行时间\n",
    "import time \n",
    "\n",
    "def runtime(func):\n",
    "    def get_time(*args, **kwargs):\n",
    "        # 注意这两行和上面的区别\n",
    "        func(*args, **kwargs)\n",
    "        print(time.time())\n",
    "    return get_time\n",
    "\n",
    "@runtime\n",
    "def student_run(i):\n",
    "    print(\"学生跑\")\n",
    "\n",
    "@runtime\n",
    "def student1_run():\n",
    "    print(\"学生1跑\")\n",
    "    \n",
    "@runtime\n",
    "def studeent2_run(*args, **kwargs):\n",
    "    print(\"学生2跑\")\n",
    "    \n",
    "student_run(1)\n",
    "student1_run()\n",
    "studeent2_run(a=1, b=2)"
   ]
  },
  {
   "cell_type": "markdown",
   "metadata": {},
   "source": [
    "### @staticmethod && @classmethod"
   ]
  },
  {
   "cell_type": "code",
   "execution_count": 58,
   "metadata": {
    "ExecuteTime": {
     "end_time": "2020-02-27T10:34:24.868415Z",
     "start_time": "2020-02-27T10:34:24.828407Z"
    }
   },
   "outputs": [
    {
     "name": "stdout",
     "output_type": "stream",
     "text": [
      "executing foo(<__main__.A object at 0x000001FBA605EF60>, 1)\n",
      "executing class_foo(<class '__main__.A'>, 1)\n",
      "executing class_foo(<class '__main__.A'>, 1)\n",
      "executing static_foo(1)\n",
      "executing static_foo(1)\n"
     ]
    }
   ],
   "source": [
    "class A(object):\n",
    "    def foo(self, x):\n",
    "        print(\"executing foo(%s, %s)\"%(self, x))\n",
    "\n",
    "    @classmethod\n",
    "    def class_foo(cls, x):\n",
    "        print(\"executing class_foo(%s, %s)\" % (cls, x))\n",
    "\n",
    "    @staticmethod\n",
    "    def static_foo(x):\n",
    "        print(\"executing static_foo(%s)\" % x)    \n",
    "\n",
    "a = A()\n",
    "a.foo(1)\n",
    "a.class_foo(1)\n",
    "A.class_foo(1)\n",
    "a.static_foo(1)\n",
    "A.static_foo(1)"
   ]
  }
 ],
 "metadata": {
  "kernelspec": {
   "display_name": "pytorch",
   "language": "python",
   "name": "pytorch"
  },
  "language_info": {
   "codemirror_mode": {
    "name": "ipython",
    "version": 3
   },
   "file_extension": ".py",
   "mimetype": "text/x-python",
   "name": "python",
   "nbconvert_exporter": "python",
   "pygments_lexer": "ipython3",
   "version": "3.6.9"
  },
  "varInspector": {
   "cols": {
    "lenName": 16,
    "lenType": 16,
    "lenVar": 40
   },
   "kernels_config": {
    "python": {
     "delete_cmd_postfix": "",
     "delete_cmd_prefix": "del ",
     "library": "var_list.py",
     "varRefreshCmd": "print(var_dic_list())"
    },
    "r": {
     "delete_cmd_postfix": ") ",
     "delete_cmd_prefix": "rm(",
     "library": "var_list.r",
     "varRefreshCmd": "cat(var_dic_list()) "
    }
   },
   "types_to_exclude": [
    "module",
    "function",
    "builtin_function_or_method",
    "instance",
    "_Feature"
   ],
   "window_display": false
  }
 },
 "nbformat": 4,
 "nbformat_minor": 2
}
